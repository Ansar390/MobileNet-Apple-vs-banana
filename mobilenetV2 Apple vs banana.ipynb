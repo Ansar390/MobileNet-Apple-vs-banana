{
  "nbformat": 4,
  "nbformat_minor": 0,
  "metadata": {
    "colab": {
      "provenance": []
    },
    "kernelspec": {
      "name": "python3",
      "display_name": "Python 3"
    },
    "language_info": {
      "name": "python"
    },
    "accelerator": "GPU",
    "gpuClass": "standard"
  },
  "cells": [
    {
      "cell_type": "code",
      "execution_count": null,
      "metadata": {
        "colab": {
          "base_uri": "https://localhost:8080/"
        },
        "id": "JrZhYQQMOUgz",
        "outputId": "69f5102a-9043-43c1-f75d-bebc70afe918"
      },
      "outputs": [
        {
          "output_type": "stream",
          "name": "stdout",
          "text": [
            "Looking in indexes: https://pypi.org/simple, https://us-python.pkg.dev/colab-wheels/public/simple/\n",
            "Collecting keras_applications\n",
            "  Downloading Keras_Applications-1.0.8-py3-none-any.whl (50 kB)\n",
            "\u001b[2K     \u001b[90m━━━━━━━━━━━━━━━━━━━━━━━━━━━━━━━━━━━━━━━━\u001b[0m \u001b[32m50.7/50.7 KB\u001b[0m \u001b[31m5.7 MB/s\u001b[0m eta \u001b[36m0:00:00\u001b[0m\n",
            "\u001b[?25hRequirement already satisfied: numpy>=1.9.1 in /usr/local/lib/python3.9/dist-packages (from keras_applications) (1.22.4)\n",
            "Requirement already satisfied: h5py in /usr/local/lib/python3.9/dist-packages (from keras_applications) (3.8.0)\n",
            "Installing collected packages: keras_applications\n",
            "Successfully installed keras_applications-1.0.8\n"
          ]
        }
      ],
      "source": [
        "pip install keras_applications"
      ]
    },
    {
      "cell_type": "code",
      "source": [
        "import tensorflow as tf\n",
        "from tensorflow.keras.applications.mobilenet import MobileNet\n",
        "from tensorflow.keras.layers import Concatenate, GlobalAveragePooling2D, Dense, Input, Lambda\n",
        "import numpy as np\n",
        "import pandas as pd\n",
        "from keras_applications.resnet import ResNet50, preprocess_input\n",
        "\n",
        "# from keras.applications.resnet50 import ResNet50, preprocess_input\n",
        "from keras.preprocessing import image\n",
        "import numpy as np \n",
        "import pandas as pd \n",
        "import matplotlib.pyplot as plt\n",
        "import matplotlib.image as mpimg\n",
        "from PIL import Image\n",
        "import seaborn as sns\n",
        "import cv2\n",
        "import random\n",
        "import os\n",
        "import imageio\n",
        "import plotly.graph_objects as go\n",
        "import plotly.express as px\n",
        "import plotly.figure_factory as ff\n",
        "from plotly.subplots import make_subplots\n",
        "from collections import Counter\n",
        "\n",
        "from sklearn.preprocessing import StandardScaler\n",
        "from sklearn.model_selection import train_test_split\n",
        "from sklearn.neighbors import LocalOutlierFactor\n",
        "# from sklearn.metrics import accuracy_score, recall_score, precision_score, classification_report, confusion_matrix, plot_confusion_matrix\n",
        "from sklearn.model_selection import RandomizedSearchCV, cross_val_score, RepeatedStratifiedKFold\n",
        "from imblearn.over_sampling import SMOTE\n",
        "\n",
        "import tensorflow as tf\n",
        "#import tensorflow_addons as tfa\n",
        "import keras\n",
        "from keras.models import Sequential\n",
        "from keras.layers import Dense, Dropout, Activation, Flatten\n",
        "from keras.layers import Conv2D, MaxPooling2D, GlobalAveragePooling2D, BatchNormalization\n",
        "from keras.applications import resnet\n",
        "#from tensorflow.keras.applications import EfficientNetB0, EfficientNetB1, EfficientNetB2, EfficientNetB3, EfficientNetB4, EfficientNetB5, EfficientNetB6, EfficientNetB7\n",
        "from keras.applications.resnet import ResNet50\n",
        "# from keras.preprocessing.image import ImageDataGenerator, load_img, img_to_array, array_to_img"
      ],
      "metadata": {
        "id": "WhvIS0EaOZtp"
      },
      "execution_count": null,
      "outputs": []
    },
    {
      "cell_type": "code",
      "source": [
        "import os\n",
        "import numpy as np\n",
        "import tensorflow as tf\n",
        "from tensorflow.keras.preprocessing.image import ImageDataGenerator, load_img, img_to_array\n",
        "from tensorflow.keras.layers import Input, Lambda, Dense, GlobalAveragePooling2D, Concatenate\n",
        "from tensorflow.keras.models import Model\n",
        "from tensorflow.keras.applications.mobilenet import MobileNet, preprocess_input\n",
        "from tensorflow.keras.optimizers import Adam\n",
        "from sklearn.model_selection import train_test_split\n"
      ],
      "metadata": {
        "id": "PxLI3bO0Oclf"
      },
      "execution_count": null,
      "outputs": []
    },
    {
      "cell_type": "code",
      "source": [
        "from tensorflow.keras.applications import MobileNetV2\n"
      ],
      "metadata": {
        "id": "nIOnLxliOeIm"
      },
      "execution_count": null,
      "outputs": []
    },
    {
      "cell_type": "code",
      "source": [
        "from google.colab import drive\n",
        "drive.mount(\"/content/drive\")"
      ],
      "metadata": {
        "colab": {
          "base_uri": "https://localhost:8080/"
        },
        "id": "LuOPtEiUOfiu",
        "outputId": "31e67fd7-75cc-49b3-baf9-30075ff16b61"
      },
      "execution_count": null,
      "outputs": [
        {
          "output_type": "stream",
          "name": "stdout",
          "text": [
            "Mounted at /content/drive\n"
          ]
        }
      ]
    },
    {
      "cell_type": "code",
      "source": [
        "def load_images_labels(apple_dir, banana_dir, img_size):\n",
        "    images = []\n",
        "    labels = []\n",
        "    \n",
        "    for img_name in os.listdir(apple_dir):\n",
        "        img_path = os.path.join(apple_dir, img_name)\n",
        "        img = load_img(img_path, target_size=(img_size, img_size))\n",
        "        img_array = img_to_array(img)\n",
        "        images.append(preprocess_input(img_array))\n",
        "        labels.append(0)  # Apple\n",
        "\n",
        "    for img_name in os.listdir(banana_dir):\n",
        "        img_path = os.path.join(banana_dir, img_name)\n",
        "        img = load_img(img_path, target_size=(img_size, img_size))\n",
        "        img_array = img_to_array(img)\n",
        "        images.append(preprocess_input(img_array))\n",
        "        labels.append(1)  # Banana\n",
        "\n",
        "    return np.array(images), np.array(labels)\n",
        "\n",
        "apple_dir = \"/content/drive/MyDrive/mobilenet/apple vs banana/original_data_set/freshapples\"\n",
        "banana_dir = \"/content/drive/MyDrive/mobilenet/apple vs banana/original_data_set/freshbanana\"\n",
        "img_size = 224\n",
        "\n",
        "X, y = load_images_labels(apple_dir, banana_dir, img_size)\n",
        "\n",
        "X_train, X_test, y_train, y_test = train_test_split(X, y, test_size=0.2, random_state=42)\n"
      ],
      "metadata": {
        "id": "z5BHoP49OhD8"
      },
      "execution_count": null,
      "outputs": []
    },
    {
      "cell_type": "code",
      "source": [
        "model_mobilenet = MobileNetV2(weights='imagenet', include_top=False, input_shape=(224, 224, 3))\n",
        "\n",
        "# Define the input tensor\n",
        "input_tensor = tf.keras.Input(shape=(224, 224, 3))\n",
        "\n",
        "# Convert RGB to HSV\n",
        "hsv_tensor = Lambda(lambda x: tf.image.rgb_to_hsv(x))(input_tensor)\n",
        "\n",
        "# Convert RGB to YCbCr\n",
        "ycbcr_tensor = Lambda(lambda x: tf.image.rgb_to_yuv(x))(input_tensor)\n",
        "\n",
        "# Pass RGB, HSV, and YCbCr images through the MobileNet model\n",
        "rgb_output = model_mobilenet(input_tensor)\n",
        "hsv_output = model_mobilenet(hsv_tensor)\n",
        "ycbcr_output = model_mobilenet(ycbcr_tensor)\n",
        "\n",
        "# Concatenate the outputs of the MobileNet model\n",
        "concatenated_output = Concatenate()([rgb_output, hsv_output, ycbcr_output])\n",
        "\n",
        "# Add a global average pooling layer\n",
        "global_average_pooling = GlobalAveragePooling2D()(concatenated_output)\n",
        "\n",
        "dense = tf.keras.layers.Dense(128, activation='relu')(global_average_pooling)\n",
        "\n",
        "# Add a binary classification layer\n",
        "output_layer = tf.keras.layers.Dense(1, activation='sigmoid')(dense)\n",
        "\n",
        "# Define the final model\n",
        "model = tf.keras.models.Model(inputs=input_tensor, outputs=output_layer)"
      ],
      "metadata": {
        "id": "RJAWCj6QSzaT",
        "colab": {
          "base_uri": "https://localhost:8080/"
        },
        "outputId": "2f1dfd5c-bfe8-4e2d-b415-285e7ef76df5"
      },
      "execution_count": null,
      "outputs": [
        {
          "output_type": "stream",
          "name": "stdout",
          "text": [
            "Downloading data from https://storage.googleapis.com/tensorflow/keras-applications/mobilenet_v2/mobilenet_v2_weights_tf_dim_ordering_tf_kernels_1.0_224_no_top.h5\n",
            "9406464/9406464 [==============================] - 0s 0us/step\n"
          ]
        }
      ]
    },
    {
      "cell_type": "code",
      "source": [
        "model.summary()"
      ],
      "metadata": {
        "colab": {
          "base_uri": "https://localhost:8080/"
        },
        "id": "q7iKrdFwUOhv",
        "outputId": "f5ad7676-3192-4641-d46e-45d490ba256d"
      },
      "execution_count": null,
      "outputs": [
        {
          "output_type": "stream",
          "name": "stdout",
          "text": [
            "Model: \"model\"\n",
            "__________________________________________________________________________________________________\n",
            " Layer (type)                   Output Shape         Param #     Connected to                     \n",
            "==================================================================================================\n",
            " input_2 (InputLayer)           [(None, 224, 224, 3  0           []                               \n",
            "                                )]                                                                \n",
            "                                                                                                  \n",
            " lambda (Lambda)                (None, 224, 224, 3)  0           ['input_2[0][0]']                \n",
            "                                                                                                  \n",
            " lambda_1 (Lambda)              (None, 224, 224, 3)  0           ['input_2[0][0]']                \n",
            "                                                                                                  \n",
            " mobilenetv2_1.00_224 (Function  (None, 7, 7, 1280)  2257984     ['input_2[0][0]',                \n",
            " al)                                                              'lambda[0][0]',                 \n",
            "                                                                  'lambda_1[0][0]']               \n",
            "                                                                                                  \n",
            " concatenate (Concatenate)      (None, 7, 7, 3840)   0           ['mobilenetv2_1.00_224[0][0]',   \n",
            "                                                                  'mobilenetv2_1.00_224[1][0]',   \n",
            "                                                                  'mobilenetv2_1.00_224[2][0]']   \n",
            "                                                                                                  \n",
            " global_average_pooling2d (Glob  (None, 3840)        0           ['concatenate[0][0]']            \n",
            " alAveragePooling2D)                                                                              \n",
            "                                                                                                  \n",
            " dense (Dense)                  (None, 128)          491648      ['global_average_pooling2d[0][0]'\n",
            "                                                                 ]                                \n",
            "                                                                                                  \n",
            " dense_1 (Dense)                (None, 1)            129         ['dense[0][0]']                  \n",
            "                                                                                                  \n",
            "==================================================================================================\n",
            "Total params: 2,749,761\n",
            "Trainable params: 2,715,649\n",
            "Non-trainable params: 34,112\n",
            "__________________________________________________________________________________________________\n"
          ]
        }
      ]
    },
    {
      "cell_type": "code",
      "source": [
        "model.compile(optimizer='adam', loss='binary_crossentropy', metrics=['accuracy'])"
      ],
      "metadata": {
        "id": "7wdiu_0DUs1m"
      },
      "execution_count": null,
      "outputs": []
    },
    {
      "cell_type": "code",
      "source": [
        "model.fit(X_train,y_train, epochs=200, validation_data=[X_test,y_test],batch_size=16)"
      ],
      "metadata": {
        "colab": {
          "base_uri": "https://localhost:8080/"
        },
        "id": "rYKqk_RRUxKI",
        "outputId": "4b690f5d-60dc-4fb1-e84f-2f0215978ceb"
      },
      "execution_count": null,
      "outputs": [
        {
          "output_type": "stream",
          "name": "stdout",
          "text": [
            "Epoch 1/200\n",
            "23/23 [==============================] - 6s 219ms/step - loss: 0.1511 - accuracy: 0.9722 - val_loss: 9.2776 - val_accuracy: 0.5667\n",
            "Epoch 2/200\n",
            "23/23 [==============================] - 4s 191ms/step - loss: 0.0619 - accuracy: 0.9833 - val_loss: 14.9510 - val_accuracy: 0.5111\n",
            "Epoch 3/200\n",
            "23/23 [==============================] - 5s 211ms/step - loss: 0.0459 - accuracy: 0.9889 - val_loss: 9.5380 - val_accuracy: 0.7000\n",
            "Epoch 4/200\n",
            "23/23 [==============================] - 4s 192ms/step - loss: 0.1381 - accuracy: 0.9611 - val_loss: 2.5988 - val_accuracy: 0.8333\n",
            "Epoch 5/200\n",
            "23/23 [==============================] - 5s 207ms/step - loss: 0.0366 - accuracy: 0.9861 - val_loss: 1.1721 - val_accuracy: 0.8778\n",
            "Epoch 6/200\n",
            "23/23 [==============================] - 5s 211ms/step - loss: 0.0113 - accuracy: 0.9972 - val_loss: 5.2760 - val_accuracy: 0.7556\n",
            "Epoch 7/200\n",
            "23/23 [==============================] - 4s 194ms/step - loss: 0.2700 - accuracy: 0.9722 - val_loss: 0.9216 - val_accuracy: 0.7889\n",
            "Epoch 8/200\n",
            "23/23 [==============================] - 5s 209ms/step - loss: 0.0643 - accuracy: 0.9778 - val_loss: 12.0775 - val_accuracy: 0.4778\n",
            "Epoch 9/200\n",
            "23/23 [==============================] - 5s 212ms/step - loss: 0.0031 - accuracy: 1.0000 - val_loss: 22.0461 - val_accuracy: 0.4778\n",
            "Epoch 10/200\n",
            "23/23 [==============================] - 5s 198ms/step - loss: 0.0098 - accuracy: 0.9944 - val_loss: 20.4767 - val_accuracy: 0.4889\n",
            "Epoch 11/200\n",
            "23/23 [==============================] - 5s 215ms/step - loss: 0.0020 - accuracy: 1.0000 - val_loss: 14.9132 - val_accuracy: 0.5222\n",
            "Epoch 12/200\n",
            "23/23 [==============================] - 5s 201ms/step - loss: 0.0045 - accuracy: 0.9972 - val_loss: 12.8808 - val_accuracy: 0.5889\n",
            "Epoch 13/200\n",
            "23/23 [==============================] - 5s 224ms/step - loss: 0.0477 - accuracy: 0.9806 - val_loss: 9.8343 - val_accuracy: 0.6444\n",
            "Epoch 14/200\n",
            "23/23 [==============================] - 5s 206ms/step - loss: 0.1049 - accuracy: 0.9778 - val_loss: 1.3116 - val_accuracy: 0.7222\n",
            "Epoch 15/200\n",
            "23/23 [==============================] - 5s 203ms/step - loss: 0.0148 - accuracy: 0.9972 - val_loss: 0.8777 - val_accuracy: 0.8444\n",
            "Epoch 16/200\n",
            "23/23 [==============================] - 5s 204ms/step - loss: 0.0061 - accuracy: 0.9972 - val_loss: 1.2661 - val_accuracy: 0.8000\n",
            "Epoch 17/200\n",
            "23/23 [==============================] - 5s 222ms/step - loss: 0.0017 - accuracy: 1.0000 - val_loss: 1.2708 - val_accuracy: 0.8111\n",
            "Epoch 18/200\n",
            "23/23 [==============================] - 5s 219ms/step - loss: 0.0093 - accuracy: 0.9972 - val_loss: 1.5175 - val_accuracy: 0.8000\n",
            "Epoch 19/200\n",
            "23/23 [==============================] - 5s 219ms/step - loss: 0.0170 - accuracy: 0.9972 - val_loss: 7.4282 - val_accuracy: 0.5444\n",
            "Epoch 20/200\n",
            "23/23 [==============================] - 5s 203ms/step - loss: 0.0084 - accuracy: 0.9972 - val_loss: 2.8550 - val_accuracy: 0.7000\n",
            "Epoch 21/200\n",
            "23/23 [==============================] - 5s 202ms/step - loss: 0.0023 - accuracy: 1.0000 - val_loss: 2.2739 - val_accuracy: 0.7556\n",
            "Epoch 22/200\n",
            "23/23 [==============================] - 5s 218ms/step - loss: 0.0012 - accuracy: 1.0000 - val_loss: 1.9691 - val_accuracy: 0.7556\n",
            "Epoch 23/200\n",
            "23/23 [==============================] - 5s 216ms/step - loss: 9.3766e-04 - accuracy: 1.0000 - val_loss: 1.6563 - val_accuracy: 0.7778\n",
            "Epoch 24/200\n",
            "23/23 [==============================] - 5s 215ms/step - loss: 2.1633e-04 - accuracy: 1.0000 - val_loss: 1.1646 - val_accuracy: 0.8444\n",
            "Epoch 25/200\n",
            "23/23 [==============================] - 5s 217ms/step - loss: 2.6990e-04 - accuracy: 1.0000 - val_loss: 0.7456 - val_accuracy: 0.8667\n",
            "Epoch 26/200\n",
            "23/23 [==============================] - 5s 215ms/step - loss: 2.7722e-04 - accuracy: 1.0000 - val_loss: 0.5227 - val_accuracy: 0.9111\n",
            "Epoch 27/200\n",
            "23/23 [==============================] - 5s 215ms/step - loss: 6.3709e-05 - accuracy: 1.0000 - val_loss: 0.3798 - val_accuracy: 0.9333\n",
            "Epoch 28/200\n",
            "23/23 [==============================] - 5s 217ms/step - loss: 0.0026 - accuracy: 1.0000 - val_loss: 0.3331 - val_accuracy: 0.9333\n",
            "Epoch 29/200\n",
            "23/23 [==============================] - 5s 216ms/step - loss: 1.5700e-04 - accuracy: 1.0000 - val_loss: 0.4774 - val_accuracy: 0.9444\n",
            "Epoch 30/200\n",
            "23/23 [==============================] - 5s 218ms/step - loss: 0.0011 - accuracy: 1.0000 - val_loss: 0.3981 - val_accuracy: 0.9556\n",
            "Epoch 31/200\n",
            "23/23 [==============================] - 5s 217ms/step - loss: 1.2465e-04 - accuracy: 1.0000 - val_loss: 0.3142 - val_accuracy: 0.9556\n",
            "Epoch 32/200\n",
            "23/23 [==============================] - 5s 216ms/step - loss: 0.0039 - accuracy: 0.9972 - val_loss: 0.1618 - val_accuracy: 0.9667\n",
            "Epoch 33/200\n",
            "23/23 [==============================] - 5s 219ms/step - loss: 0.0181 - accuracy: 0.9944 - val_loss: 2.0786 - val_accuracy: 0.9111\n",
            "Epoch 34/200\n",
            "23/23 [==============================] - 5s 203ms/step - loss: 0.0106 - accuracy: 0.9972 - val_loss: 0.5060 - val_accuracy: 0.9000\n",
            "Epoch 35/200\n",
            "23/23 [==============================] - 5s 204ms/step - loss: 0.0027 - accuracy: 1.0000 - val_loss: 0.4549 - val_accuracy: 0.9444\n",
            "Epoch 36/200\n",
            "23/23 [==============================] - 5s 219ms/step - loss: 0.0010 - accuracy: 1.0000 - val_loss: 0.3806 - val_accuracy: 0.9444\n",
            "Epoch 37/200\n",
            "23/23 [==============================] - 5s 203ms/step - loss: 3.5190e-04 - accuracy: 1.0000 - val_loss: 0.3684 - val_accuracy: 0.9444\n",
            "Epoch 38/200\n",
            "23/23 [==============================] - 5s 205ms/step - loss: 0.0012 - accuracy: 1.0000 - val_loss: 0.3150 - val_accuracy: 0.9444\n",
            "Epoch 39/200\n",
            "23/23 [==============================] - 5s 218ms/step - loss: 1.9636e-05 - accuracy: 1.0000 - val_loss: 0.2691 - val_accuracy: 0.9444\n",
            "Epoch 40/200\n",
            "23/23 [==============================] - 5s 216ms/step - loss: 2.2039e-04 - accuracy: 1.0000 - val_loss: 0.2233 - val_accuracy: 0.9444\n",
            "Epoch 41/200\n",
            "23/23 [==============================] - 5s 207ms/step - loss: 3.9835e-04 - accuracy: 1.0000 - val_loss: 0.1828 - val_accuracy: 0.9444\n",
            "Epoch 42/200\n",
            "23/23 [==============================] - 5s 217ms/step - loss: 2.4118e-05 - accuracy: 1.0000 - val_loss: 0.1448 - val_accuracy: 0.9444\n",
            "Epoch 43/200\n",
            "23/23 [==============================] - 5s 202ms/step - loss: 1.4467e-04 - accuracy: 1.0000 - val_loss: 0.1268 - val_accuracy: 0.9556\n",
            "Epoch 44/200\n",
            "23/23 [==============================] - 5s 203ms/step - loss: 3.9768e-05 - accuracy: 1.0000 - val_loss: 0.1147 - val_accuracy: 0.9667\n",
            "Epoch 45/200\n",
            "23/23 [==============================] - 5s 201ms/step - loss: 9.8947e-06 - accuracy: 1.0000 - val_loss: 0.1060 - val_accuracy: 0.9667\n",
            "Epoch 46/200\n",
            "23/23 [==============================] - 5s 215ms/step - loss: 1.2335e-05 - accuracy: 1.0000 - val_loss: 0.0985 - val_accuracy: 0.9667\n",
            "Epoch 47/200\n",
            "23/23 [==============================] - 5s 219ms/step - loss: 4.7289e-06 - accuracy: 1.0000 - val_loss: 0.0930 - val_accuracy: 0.9667\n",
            "Epoch 48/200\n",
            "23/23 [==============================] - 5s 202ms/step - loss: 2.3317e-05 - accuracy: 1.0000 - val_loss: 0.0885 - val_accuracy: 0.9667\n",
            "Epoch 49/200\n",
            "23/23 [==============================] - 5s 217ms/step - loss: 0.0011 - accuracy: 1.0000 - val_loss: 0.0569 - val_accuracy: 0.9667\n",
            "Epoch 50/200\n",
            "23/23 [==============================] - 5s 217ms/step - loss: 1.7377e-05 - accuracy: 1.0000 - val_loss: 0.0504 - val_accuracy: 0.9667\n",
            "Epoch 51/200\n",
            "23/23 [==============================] - 5s 202ms/step - loss: 1.7811e-04 - accuracy: 1.0000 - val_loss: 0.0454 - val_accuracy: 0.9667\n",
            "Epoch 52/200\n",
            "23/23 [==============================] - 5s 219ms/step - loss: 1.6003e-05 - accuracy: 1.0000 - val_loss: 0.0427 - val_accuracy: 0.9778\n",
            "Epoch 53/200\n",
            "23/23 [==============================] - 5s 202ms/step - loss: 1.7475e-05 - accuracy: 1.0000 - val_loss: 0.0407 - val_accuracy: 0.9889\n",
            "Epoch 54/200\n",
            "23/23 [==============================] - 5s 202ms/step - loss: 1.5138e-04 - accuracy: 1.0000 - val_loss: 0.0419 - val_accuracy: 0.9778\n",
            "Epoch 55/200\n",
            "23/23 [==============================] - 5s 205ms/step - loss: 4.4089e-05 - accuracy: 1.0000 - val_loss: 0.0416 - val_accuracy: 0.9778\n",
            "Epoch 56/200\n",
            "23/23 [==============================] - 5s 202ms/step - loss: 5.9808e-06 - accuracy: 1.0000 - val_loss: 0.0410 - val_accuracy: 0.9778\n",
            "Epoch 57/200\n",
            "23/23 [==============================] - 5s 202ms/step - loss: 5.5772e-06 - accuracy: 1.0000 - val_loss: 0.0406 - val_accuracy: 0.9778\n",
            "Epoch 58/200\n",
            "23/23 [==============================] - 5s 205ms/step - loss: 7.6743e-06 - accuracy: 1.0000 - val_loss: 0.0402 - val_accuracy: 0.9778\n",
            "Epoch 59/200\n",
            "23/23 [==============================] - 5s 202ms/step - loss: 4.5110e-06 - accuracy: 1.0000 - val_loss: 0.0402 - val_accuracy: 0.9778\n",
            "Epoch 60/200\n",
            "23/23 [==============================] - 5s 217ms/step - loss: 8.6787e-06 - accuracy: 1.0000 - val_loss: 0.0403 - val_accuracy: 0.9778\n",
            "Epoch 61/200\n",
            "23/23 [==============================] - 5s 219ms/step - loss: 7.0385e-06 - accuracy: 1.0000 - val_loss: 0.0402 - val_accuracy: 0.9778\n",
            "Epoch 62/200\n",
            "23/23 [==============================] - 5s 216ms/step - loss: 1.0487e-05 - accuracy: 1.0000 - val_loss: 0.0404 - val_accuracy: 0.9778\n",
            "Epoch 63/200\n",
            "23/23 [==============================] - 5s 204ms/step - loss: 3.5927e-06 - accuracy: 1.0000 - val_loss: 0.0407 - val_accuracy: 0.9778\n",
            "Epoch 64/200\n",
            "23/23 [==============================] - 5s 202ms/step - loss: 1.2899e-05 - accuracy: 1.0000 - val_loss: 0.0410 - val_accuracy: 0.9778\n",
            "Epoch 65/200\n",
            "23/23 [==============================] - 5s 217ms/step - loss: 0.0362 - accuracy: 0.9944 - val_loss: 0.3601 - val_accuracy: 0.9111\n",
            "Epoch 66/200\n",
            "23/23 [==============================] - 5s 205ms/step - loss: 0.0929 - accuracy: 0.9833 - val_loss: 2.5463 - val_accuracy: 0.7000\n",
            "Epoch 67/200\n",
            "23/23 [==============================] - 5s 202ms/step - loss: 0.1257 - accuracy: 0.9667 - val_loss: 1.3390 - val_accuracy: 0.7111\n",
            "Epoch 68/200\n",
            "23/23 [==============================] - 5s 202ms/step - loss: 0.0135 - accuracy: 0.9972 - val_loss: 2.2543 - val_accuracy: 0.6444\n",
            "Epoch 69/200\n",
            "23/23 [==============================] - 5s 204ms/step - loss: 0.0294 - accuracy: 0.9972 - val_loss: 1.2098 - val_accuracy: 0.8222\n",
            "Epoch 70/200\n",
            "23/23 [==============================] - 5s 202ms/step - loss: 0.2060 - accuracy: 0.9556 - val_loss: 8.3185 - val_accuracy: 0.4556\n",
            "Epoch 71/200\n",
            "23/23 [==============================] - 5s 216ms/step - loss: 0.0352 - accuracy: 0.9917 - val_loss: 23.7194 - val_accuracy: 0.4556\n",
            "Epoch 72/200\n",
            "23/23 [==============================] - 5s 204ms/step - loss: 0.0116 - accuracy: 0.9917 - val_loss: 20.7747 - val_accuracy: 0.4556\n",
            "Epoch 73/200\n",
            "23/23 [==============================] - 5s 202ms/step - loss: 0.0201 - accuracy: 0.9972 - val_loss: 14.0875 - val_accuracy: 0.4778\n",
            "Epoch 74/200\n",
            "23/23 [==============================] - 5s 217ms/step - loss: 0.0539 - accuracy: 0.9889 - val_loss: 12.8576 - val_accuracy: 0.5111\n",
            "Epoch 75/200\n",
            "23/23 [==============================] - 5s 216ms/step - loss: 0.0388 - accuracy: 0.9917 - val_loss: 0.5226 - val_accuracy: 0.8889\n",
            "Epoch 76/200\n",
            "23/23 [==============================] - 5s 215ms/step - loss: 0.0117 - accuracy: 0.9944 - val_loss: 3.2536 - val_accuracy: 0.6778\n",
            "Epoch 77/200\n",
            "23/23 [==============================] - 5s 205ms/step - loss: 0.0047 - accuracy: 0.9972 - val_loss: 0.7275 - val_accuracy: 0.8778\n",
            "Epoch 78/200\n",
            "23/23 [==============================] - 5s 216ms/step - loss: 0.0014 - accuracy: 1.0000 - val_loss: 0.8342 - val_accuracy: 0.8556\n",
            "Epoch 79/200\n",
            "23/23 [==============================] - 5s 216ms/step - loss: 6.6249e-04 - accuracy: 1.0000 - val_loss: 0.7401 - val_accuracy: 0.8778\n",
            "Epoch 80/200\n",
            "23/23 [==============================] - 5s 218ms/step - loss: 8.3770e-04 - accuracy: 1.0000 - val_loss: 0.4043 - val_accuracy: 0.9222\n",
            "Epoch 81/200\n",
            "23/23 [==============================] - 5s 202ms/step - loss: 0.0054 - accuracy: 0.9972 - val_loss: 0.5673 - val_accuracy: 0.9111\n",
            "Epoch 82/200\n",
            "23/23 [==============================] - 5s 205ms/step - loss: 7.9373e-04 - accuracy: 1.0000 - val_loss: 0.4476 - val_accuracy: 0.9111\n",
            "Epoch 83/200\n",
            "23/23 [==============================] - 5s 204ms/step - loss: 3.6198e-04 - accuracy: 1.0000 - val_loss: 0.3865 - val_accuracy: 0.9333\n",
            "Epoch 84/200\n",
            "23/23 [==============================] - 5s 215ms/step - loss: 0.0011 - accuracy: 1.0000 - val_loss: 0.3228 - val_accuracy: 0.9222\n",
            "Epoch 85/200\n",
            "23/23 [==============================] - 5s 204ms/step - loss: 1.0905e-04 - accuracy: 1.0000 - val_loss: 0.3081 - val_accuracy: 0.9333\n",
            "Epoch 86/200\n",
            "23/23 [==============================] - 5s 203ms/step - loss: 8.4139e-05 - accuracy: 1.0000 - val_loss: 0.2907 - val_accuracy: 0.9222\n",
            "Epoch 87/200\n",
            "23/23 [==============================] - 5s 215ms/step - loss: 9.0631e-04 - accuracy: 1.0000 - val_loss: 0.2970 - val_accuracy: 0.9222\n",
            "Epoch 88/200\n",
            "23/23 [==============================] - 5s 219ms/step - loss: 2.5326e-04 - accuracy: 1.0000 - val_loss: 0.6007 - val_accuracy: 0.9111\n",
            "Epoch 89/200\n",
            "23/23 [==============================] - 5s 216ms/step - loss: 2.6656e-04 - accuracy: 1.0000 - val_loss: 0.4977 - val_accuracy: 0.9111\n",
            "Epoch 90/200\n",
            "23/23 [==============================] - 5s 216ms/step - loss: 5.3282e-04 - accuracy: 1.0000 - val_loss: 0.2754 - val_accuracy: 0.9222\n",
            "Epoch 91/200\n",
            "23/23 [==============================] - 5s 218ms/step - loss: 7.8459e-04 - accuracy: 1.0000 - val_loss: 0.2246 - val_accuracy: 0.9222\n",
            "Epoch 92/200\n",
            "23/23 [==============================] - 5s 203ms/step - loss: 3.9681e-04 - accuracy: 1.0000 - val_loss: 0.2262 - val_accuracy: 0.9222\n",
            "Epoch 93/200\n",
            "23/23 [==============================] - 5s 217ms/step - loss: 7.2321e-06 - accuracy: 1.0000 - val_loss: 0.2152 - val_accuracy: 0.9333\n",
            "Epoch 94/200\n",
            "23/23 [==============================] - 5s 203ms/step - loss: 2.4308e-05 - accuracy: 1.0000 - val_loss: 0.2051 - val_accuracy: 0.9333\n",
            "Epoch 95/200\n",
            "23/23 [==============================] - 5s 216ms/step - loss: 1.2701e-05 - accuracy: 1.0000 - val_loss: 0.1878 - val_accuracy: 0.9444\n",
            "Epoch 96/200\n",
            "23/23 [==============================] - 5s 206ms/step - loss: 1.6525e-05 - accuracy: 1.0000 - val_loss: 0.1689 - val_accuracy: 0.9444\n",
            "Epoch 97/200\n",
            "23/23 [==============================] - 5s 202ms/step - loss: 3.5743e-05 - accuracy: 1.0000 - val_loss: 0.1499 - val_accuracy: 0.9444\n",
            "Epoch 98/200\n",
            "23/23 [==============================] - 5s 217ms/step - loss: 1.7382e-05 - accuracy: 1.0000 - val_loss: 0.1349 - val_accuracy: 0.9556\n",
            "Epoch 99/200\n",
            "23/23 [==============================] - 5s 205ms/step - loss: 1.2894e-05 - accuracy: 1.0000 - val_loss: 0.1236 - val_accuracy: 0.9556\n",
            "Epoch 100/200\n",
            "23/23 [==============================] - 5s 203ms/step - loss: 2.2686e-05 - accuracy: 1.0000 - val_loss: 0.1156 - val_accuracy: 0.9556\n",
            "Epoch 101/200\n",
            "23/23 [==============================] - 5s 203ms/step - loss: 1.8636e-05 - accuracy: 1.0000 - val_loss: 0.1084 - val_accuracy: 0.9556\n",
            "Epoch 102/200\n",
            "23/23 [==============================] - 5s 219ms/step - loss: 0.0079 - accuracy: 0.9972 - val_loss: 0.3029 - val_accuracy: 0.9111\n",
            "Epoch 103/200\n",
            "23/23 [==============================] - 5s 217ms/step - loss: 0.0395 - accuracy: 0.9889 - val_loss: 1.2653 - val_accuracy: 0.4778\n",
            "Epoch 104/200\n",
            "23/23 [==============================] - 5s 218ms/step - loss: 0.0418 - accuracy: 0.9917 - val_loss: 4.6527 - val_accuracy: 0.4778\n",
            "Epoch 105/200\n",
            "23/23 [==============================] - 5s 203ms/step - loss: 0.0102 - accuracy: 0.9944 - val_loss: 11.5961 - val_accuracy: 0.4778\n",
            "Epoch 106/200\n",
            "23/23 [==============================] - 5s 217ms/step - loss: 0.0014 - accuracy: 1.0000 - val_loss: 12.0046 - val_accuracy: 0.4778\n",
            "Epoch 107/200\n",
            "23/23 [==============================] - 5s 206ms/step - loss: 0.0025 - accuracy: 0.9972 - val_loss: 11.7270 - val_accuracy: 0.5000\n",
            "Epoch 108/200\n",
            "23/23 [==============================] - 5s 203ms/step - loss: 0.0021 - accuracy: 1.0000 - val_loss: 15.0398 - val_accuracy: 0.5000\n",
            "Epoch 109/200\n",
            "23/23 [==============================] - 5s 217ms/step - loss: 7.9785e-04 - accuracy: 1.0000 - val_loss: 13.6022 - val_accuracy: 0.5111\n",
            "Epoch 110/200\n",
            "23/23 [==============================] - 5s 221ms/step - loss: 6.9309e-05 - accuracy: 1.0000 - val_loss: 10.6825 - val_accuracy: 0.5667\n",
            "Epoch 111/200\n",
            "23/23 [==============================] - 5s 217ms/step - loss: 3.5041e-04 - accuracy: 1.0000 - val_loss: 7.4316 - val_accuracy: 0.6222\n",
            "Epoch 112/200\n",
            "23/23 [==============================] - 5s 218ms/step - loss: 1.8077e-04 - accuracy: 1.0000 - val_loss: 4.4975 - val_accuracy: 0.7222\n",
            "Epoch 113/200\n",
            "23/23 [==============================] - 5s 203ms/step - loss: 2.0945e-04 - accuracy: 1.0000 - val_loss: 3.0979 - val_accuracy: 0.7889\n",
            "Epoch 114/200\n",
            "23/23 [==============================] - 5s 216ms/step - loss: 8.2353e-05 - accuracy: 1.0000 - val_loss: 2.2219 - val_accuracy: 0.8333\n",
            "Epoch 115/200\n",
            "23/23 [==============================] - 5s 207ms/step - loss: 7.6086e-04 - accuracy: 1.0000 - val_loss: 2.3804 - val_accuracy: 0.8111\n",
            "Epoch 116/200\n",
            "23/23 [==============================] - 5s 203ms/step - loss: 1.8818e-04 - accuracy: 1.0000 - val_loss: 1.9000 - val_accuracy: 0.8222\n",
            "Epoch 117/200\n",
            "23/23 [==============================] - 5s 203ms/step - loss: 1.8223e-04 - accuracy: 1.0000 - val_loss: 1.4721 - val_accuracy: 0.8667\n",
            "Epoch 118/200\n",
            "23/23 [==============================] - 5s 207ms/step - loss: 1.0861e-04 - accuracy: 1.0000 - val_loss: 1.0986 - val_accuracy: 0.8889\n",
            "Epoch 119/200\n",
            "23/23 [==============================] - 5s 202ms/step - loss: 1.0780e-04 - accuracy: 1.0000 - val_loss: 0.7947 - val_accuracy: 0.9000\n",
            "Epoch 120/200\n",
            "23/23 [==============================] - 5s 217ms/step - loss: 7.1420e-05 - accuracy: 1.0000 - val_loss: 0.6075 - val_accuracy: 0.9333\n",
            "Epoch 121/200\n",
            "23/23 [==============================] - 5s 220ms/step - loss: 3.3974e-04 - accuracy: 1.0000 - val_loss: 0.4582 - val_accuracy: 0.9444\n",
            "Epoch 122/200\n",
            "23/23 [==============================] - 5s 202ms/step - loss: 2.6958e-05 - accuracy: 1.0000 - val_loss: 0.3416 - val_accuracy: 0.9444\n",
            "Epoch 123/200\n",
            "23/23 [==============================] - 5s 204ms/step - loss: 5.4933e-04 - accuracy: 1.0000 - val_loss: 0.3363 - val_accuracy: 0.9333\n",
            "Epoch 124/200\n",
            "23/23 [==============================] - 5s 206ms/step - loss: 3.0230e-05 - accuracy: 1.0000 - val_loss: 0.2749 - val_accuracy: 0.9333\n",
            "Epoch 125/200\n",
            "23/23 [==============================] - 5s 203ms/step - loss: 5.9324e-05 - accuracy: 1.0000 - val_loss: 0.2101 - val_accuracy: 0.9333\n",
            "Epoch 126/200\n",
            "23/23 [==============================] - 5s 219ms/step - loss: 1.3883e-05 - accuracy: 1.0000 - val_loss: 0.1541 - val_accuracy: 0.9333\n",
            "Epoch 127/200\n",
            "23/23 [==============================] - 5s 204ms/step - loss: 6.4443e-05 - accuracy: 1.0000 - val_loss: 0.1209 - val_accuracy: 0.9556\n",
            "Epoch 128/200\n",
            "23/23 [==============================] - 5s 217ms/step - loss: 4.7536e-05 - accuracy: 1.0000 - val_loss: 0.0898 - val_accuracy: 0.9667\n",
            "Epoch 129/200\n",
            "23/23 [==============================] - 5s 206ms/step - loss: 2.4043e-05 - accuracy: 1.0000 - val_loss: 0.0682 - val_accuracy: 0.9667\n",
            "Epoch 130/200\n",
            "23/23 [==============================] - 5s 202ms/step - loss: 6.5206e-06 - accuracy: 1.0000 - val_loss: 0.0554 - val_accuracy: 0.9667\n",
            "Epoch 131/200\n",
            "23/23 [==============================] - 5s 216ms/step - loss: 3.5422e-05 - accuracy: 1.0000 - val_loss: 0.0467 - val_accuracy: 0.9778\n",
            "Epoch 132/200\n",
            "23/23 [==============================] - 5s 220ms/step - loss: 4.4623e-05 - accuracy: 1.0000 - val_loss: 0.0381 - val_accuracy: 0.9778\n",
            "Epoch 133/200\n",
            "23/23 [==============================] - 5s 217ms/step - loss: 1.0049e-05 - accuracy: 1.0000 - val_loss: 0.0325 - val_accuracy: 0.9778\n",
            "Epoch 134/200\n",
            "23/23 [==============================] - 5s 218ms/step - loss: 6.2051e-05 - accuracy: 1.0000 - val_loss: 0.0285 - val_accuracy: 1.0000\n",
            "Epoch 135/200\n",
            "23/23 [==============================] - 5s 218ms/step - loss: 3.7933e-05 - accuracy: 1.0000 - val_loss: 0.0256 - val_accuracy: 1.0000\n",
            "Epoch 136/200\n",
            "23/23 [==============================] - 5s 202ms/step - loss: 1.8832e-05 - accuracy: 1.0000 - val_loss: 0.0236 - val_accuracy: 1.0000\n",
            "Epoch 137/200\n",
            "23/23 [==============================] - 5s 220ms/step - loss: 3.8611e-04 - accuracy: 1.0000 - val_loss: 0.0204 - val_accuracy: 1.0000\n",
            "Epoch 138/200\n",
            "23/23 [==============================] - 5s 202ms/step - loss: 3.4280e-05 - accuracy: 1.0000 - val_loss: 0.0211 - val_accuracy: 1.0000\n",
            "Epoch 139/200\n",
            "23/23 [==============================] - 5s 202ms/step - loss: 3.1020e-05 - accuracy: 1.0000 - val_loss: 0.0208 - val_accuracy: 1.0000\n",
            "Epoch 140/200\n",
            "23/23 [==============================] - 5s 204ms/step - loss: 9.4606e-06 - accuracy: 1.0000 - val_loss: 0.0208 - val_accuracy: 1.0000\n",
            "Epoch 141/200\n",
            "23/23 [==============================] - 5s 202ms/step - loss: 6.5089e-06 - accuracy: 1.0000 - val_loss: 0.0205 - val_accuracy: 1.0000\n",
            "Epoch 142/200\n",
            "23/23 [==============================] - 5s 217ms/step - loss: 1.4280e-05 - accuracy: 1.0000 - val_loss: 0.0205 - val_accuracy: 1.0000\n",
            "Epoch 143/200\n",
            "23/23 [==============================] - 5s 206ms/step - loss: 1.8546e-05 - accuracy: 1.0000 - val_loss: 0.0201 - val_accuracy: 1.0000\n",
            "Epoch 144/200\n",
            "23/23 [==============================] - 5s 202ms/step - loss: 9.3063e-06 - accuracy: 1.0000 - val_loss: 0.0198 - val_accuracy: 1.0000\n",
            "Epoch 145/200\n",
            "23/23 [==============================] - 5s 206ms/step - loss: 2.9748e-06 - accuracy: 1.0000 - val_loss: 0.0200 - val_accuracy: 1.0000\n",
            "Epoch 146/200\n",
            "23/23 [==============================] - 5s 219ms/step - loss: 1.1461e-05 - accuracy: 1.0000 - val_loss: 0.0200 - val_accuracy: 1.0000\n",
            "Epoch 147/200\n",
            "23/23 [==============================] - 5s 203ms/step - loss: 8.4822e-06 - accuracy: 1.0000 - val_loss: 0.0200 - val_accuracy: 1.0000\n",
            "Epoch 148/200\n",
            "23/23 [==============================] - 5s 221ms/step - loss: 4.4456e-06 - accuracy: 1.0000 - val_loss: 0.0201 - val_accuracy: 1.0000\n",
            "Epoch 149/200\n",
            "23/23 [==============================] - 5s 204ms/step - loss: 1.2467e-04 - accuracy: 1.0000 - val_loss: 0.0204 - val_accuracy: 1.0000\n",
            "Epoch 150/200\n",
            "23/23 [==============================] - 5s 203ms/step - loss: 1.1271e-05 - accuracy: 1.0000 - val_loss: 0.0227 - val_accuracy: 1.0000\n",
            "Epoch 151/200\n",
            "23/23 [==============================] - 5s 219ms/step - loss: 1.4656e-05 - accuracy: 1.0000 - val_loss: 0.0227 - val_accuracy: 1.0000\n",
            "Epoch 152/200\n",
            "23/23 [==============================] - 5s 217ms/step - loss: 3.2684e-06 - accuracy: 1.0000 - val_loss: 0.0225 - val_accuracy: 1.0000\n",
            "Epoch 153/200\n",
            "23/23 [==============================] - 5s 204ms/step - loss: 2.5772e-05 - accuracy: 1.0000 - val_loss: 0.0221 - val_accuracy: 1.0000\n",
            "Epoch 154/200\n",
            "23/23 [==============================] - 5s 205ms/step - loss: 8.7036e-06 - accuracy: 1.0000 - val_loss: 0.0217 - val_accuracy: 1.0000\n",
            "Epoch 155/200\n",
            "23/23 [==============================] - 5s 216ms/step - loss: 2.0278e-06 - accuracy: 1.0000 - val_loss: 0.0215 - val_accuracy: 1.0000\n",
            "Epoch 156/200\n",
            "23/23 [==============================] - 5s 219ms/step - loss: 2.2841e-06 - accuracy: 1.0000 - val_loss: 0.0214 - val_accuracy: 1.0000\n",
            "Epoch 157/200\n",
            "23/23 [==============================] - 5s 217ms/step - loss: 4.1503e-06 - accuracy: 1.0000 - val_loss: 0.0212 - val_accuracy: 1.0000\n",
            "Epoch 158/200\n",
            "23/23 [==============================] - 5s 217ms/step - loss: 8.1103e-06 - accuracy: 1.0000 - val_loss: 0.0210 - val_accuracy: 1.0000\n",
            "Epoch 159/200\n",
            "23/23 [==============================] - 5s 221ms/step - loss: 2.3425e-05 - accuracy: 1.0000 - val_loss: 0.0208 - val_accuracy: 1.0000\n",
            "Epoch 160/200\n",
            "23/23 [==============================] - 5s 216ms/step - loss: 2.3182e-06 - accuracy: 1.0000 - val_loss: 0.0201 - val_accuracy: 1.0000\n",
            "Epoch 161/200\n",
            "23/23 [==============================] - 5s 203ms/step - loss: 6.3965e-04 - accuracy: 1.0000 - val_loss: 0.0265 - val_accuracy: 1.0000\n",
            "Epoch 162/200\n",
            "23/23 [==============================] - 5s 206ms/step - loss: 1.0705e-05 - accuracy: 1.0000 - val_loss: 0.0441 - val_accuracy: 1.0000\n",
            "Epoch 163/200\n",
            "23/23 [==============================] - 5s 217ms/step - loss: 1.1861e-05 - accuracy: 1.0000 - val_loss: 0.0451 - val_accuracy: 1.0000\n",
            "Epoch 164/200\n",
            "23/23 [==============================] - 5s 219ms/step - loss: 4.9172e-05 - accuracy: 1.0000 - val_loss: 0.0441 - val_accuracy: 1.0000\n",
            "Epoch 165/200\n",
            "23/23 [==============================] - 5s 204ms/step - loss: 1.3344e-05 - accuracy: 1.0000 - val_loss: 0.0429 - val_accuracy: 1.0000\n",
            "Epoch 166/200\n",
            "23/23 [==============================] - 5s 204ms/step - loss: 4.9763e-05 - accuracy: 1.0000 - val_loss: 0.0399 - val_accuracy: 1.0000\n",
            "Epoch 167/200\n",
            "23/23 [==============================] - 5s 207ms/step - loss: 2.0203e-04 - accuracy: 1.0000 - val_loss: 0.0382 - val_accuracy: 1.0000\n",
            "Epoch 168/200\n",
            "23/23 [==============================] - 5s 204ms/step - loss: 2.5669e-05 - accuracy: 1.0000 - val_loss: 0.0389 - val_accuracy: 1.0000\n",
            "Epoch 169/200\n",
            "23/23 [==============================] - 5s 217ms/step - loss: 5.9360e-06 - accuracy: 1.0000 - val_loss: 0.0380 - val_accuracy: 1.0000\n",
            "Epoch 170/200\n",
            "23/23 [==============================] - 5s 221ms/step - loss: 8.6852e-06 - accuracy: 1.0000 - val_loss: 0.0367 - val_accuracy: 1.0000\n",
            "Epoch 171/200\n",
            "23/23 [==============================] - 5s 203ms/step - loss: 1.1266e-05 - accuracy: 1.0000 - val_loss: 0.0356 - val_accuracy: 1.0000\n",
            "Epoch 172/200\n",
            "23/23 [==============================] - 5s 204ms/step - loss: 3.9771e-06 - accuracy: 1.0000 - val_loss: 0.0345 - val_accuracy: 1.0000\n",
            "Epoch 173/200\n",
            "23/23 [==============================] - 5s 221ms/step - loss: 1.7646e-04 - accuracy: 1.0000 - val_loss: 0.0329 - val_accuracy: 1.0000\n",
            "Epoch 174/200\n",
            "23/23 [==============================] - 5s 217ms/step - loss: 8.5428e-06 - accuracy: 1.0000 - val_loss: 0.0303 - val_accuracy: 1.0000\n",
            "Epoch 175/200\n",
            "23/23 [==============================] - 5s 206ms/step - loss: 3.2664e-05 - accuracy: 1.0000 - val_loss: 0.0290 - val_accuracy: 1.0000\n",
            "Epoch 176/200\n",
            "23/23 [==============================] - 5s 219ms/step - loss: 9.5591e-06 - accuracy: 1.0000 - val_loss: 0.0277 - val_accuracy: 1.0000\n",
            "Epoch 177/200\n",
            "23/23 [==============================] - 5s 203ms/step - loss: 1.7885e-06 - accuracy: 1.0000 - val_loss: 0.0269 - val_accuracy: 1.0000\n",
            "Epoch 178/200\n",
            "23/23 [==============================] - 5s 220ms/step - loss: 2.7291e-06 - accuracy: 1.0000 - val_loss: 0.0264 - val_accuracy: 1.0000\n",
            "Epoch 179/200\n",
            "23/23 [==============================] - 5s 203ms/step - loss: 3.6246e-06 - accuracy: 1.0000 - val_loss: 0.0258 - val_accuracy: 1.0000\n",
            "Epoch 180/200\n",
            "23/23 [==============================] - 5s 217ms/step - loss: 4.5547e-07 - accuracy: 1.0000 - val_loss: 0.0252 - val_accuracy: 1.0000\n",
            "Epoch 181/200\n",
            "23/23 [==============================] - 5s 207ms/step - loss: 1.0579e-06 - accuracy: 1.0000 - val_loss: 0.0248 - val_accuracy: 1.0000\n",
            "Epoch 182/200\n",
            "23/23 [==============================] - 5s 217ms/step - loss: 1.2870e-05 - accuracy: 1.0000 - val_loss: 0.0243 - val_accuracy: 1.0000\n",
            "Epoch 183/200\n",
            "23/23 [==============================] - 5s 218ms/step - loss: 1.0346e-06 - accuracy: 1.0000 - val_loss: 0.0239 - val_accuracy: 1.0000\n",
            "Epoch 184/200\n",
            "23/23 [==============================] - 5s 218ms/step - loss: 3.1986e-06 - accuracy: 1.0000 - val_loss: 0.0236 - val_accuracy: 1.0000\n",
            "Epoch 185/200\n",
            "23/23 [==============================] - 5s 217ms/step - loss: 1.4094e-05 - accuracy: 1.0000 - val_loss: 0.0232 - val_accuracy: 1.0000\n",
            "Epoch 186/200\n",
            "23/23 [==============================] - 5s 206ms/step - loss: 9.1228e-07 - accuracy: 1.0000 - val_loss: 0.0228 - val_accuracy: 1.0000\n",
            "Epoch 187/200\n",
            "23/23 [==============================] - 5s 218ms/step - loss: 1.5763e-06 - accuracy: 1.0000 - val_loss: 0.0226 - val_accuracy: 1.0000\n",
            "Epoch 188/200\n",
            "23/23 [==============================] - 5s 217ms/step - loss: 1.4325e-05 - accuracy: 1.0000 - val_loss: 0.0227 - val_accuracy: 1.0000\n",
            "Epoch 189/200\n",
            "23/23 [==============================] - 5s 205ms/step - loss: 2.1062e-06 - accuracy: 1.0000 - val_loss: 0.0229 - val_accuracy: 1.0000\n",
            "Epoch 190/200\n",
            "23/23 [==============================] - 5s 217ms/step - loss: 1.7155e-06 - accuracy: 1.0000 - val_loss: 0.0226 - val_accuracy: 1.0000\n",
            "Epoch 191/200\n",
            "23/23 [==============================] - 5s 218ms/step - loss: 1.0746e-06 - accuracy: 1.0000 - val_loss: 0.0223 - val_accuracy: 1.0000\n",
            "Epoch 192/200\n",
            "23/23 [==============================] - 5s 217ms/step - loss: 1.8290e-06 - accuracy: 1.0000 - val_loss: 0.0221 - val_accuracy: 1.0000\n",
            "Epoch 193/200\n",
            "23/23 [==============================] - 5s 203ms/step - loss: 3.5478e-06 - accuracy: 1.0000 - val_loss: 0.0219 - val_accuracy: 1.0000\n",
            "Epoch 194/200\n",
            "23/23 [==============================] - 5s 219ms/step - loss: 3.2842e-06 - accuracy: 1.0000 - val_loss: 0.0218 - val_accuracy: 1.0000\n",
            "Epoch 195/200\n",
            "23/23 [==============================] - 5s 220ms/step - loss: 1.4912e-06 - accuracy: 1.0000 - val_loss: 0.0215 - val_accuracy: 1.0000\n",
            "Epoch 196/200\n",
            "23/23 [==============================] - 5s 217ms/step - loss: 1.1395e-05 - accuracy: 1.0000 - val_loss: 0.0217 - val_accuracy: 1.0000\n",
            "Epoch 197/200\n",
            "23/23 [==============================] - 5s 205ms/step - loss: 2.6584e-07 - accuracy: 1.0000 - val_loss: 0.0218 - val_accuracy: 1.0000\n",
            "Epoch 198/200\n",
            "23/23 [==============================] - 5s 217ms/step - loss: 6.3255e-06 - accuracy: 1.0000 - val_loss: 0.0215 - val_accuracy: 1.0000\n",
            "Epoch 199/200\n",
            "23/23 [==============================] - 5s 217ms/step - loss: 1.1729e-05 - accuracy: 1.0000 - val_loss: 0.0213 - val_accuracy: 1.0000\n",
            "Epoch 200/200\n",
            "23/23 [==============================] - 5s 218ms/step - loss: 4.8933e-07 - accuracy: 1.0000 - val_loss: 0.0211 - val_accuracy: 1.0000\n"
          ]
        },
        {
          "output_type": "execute_result",
          "data": {
            "text/plain": [
              "<keras.callbacks.History at 0x7f6354f8f5e0>"
            ]
          },
          "metadata": {},
          "execution_count": 23
        }
      ]
    },
    {
      "cell_type": "code",
      "source": [
        "pred=model.predict(X_test)"
      ],
      "metadata": {
        "colab": {
          "base_uri": "https://localhost:8080/"
        },
        "id": "NxxEmZA6UxM1",
        "outputId": "ea718d4a-5864-434e-8725-359885816209"
      },
      "execution_count": null,
      "outputs": [
        {
          "output_type": "stream",
          "name": "stdout",
          "text": [
            "3/3 [==============================] - 0s 127ms/step\n"
          ]
        }
      ]
    },
    {
      "cell_type": "code",
      "source": [
        "pred=np.round(pred)"
      ],
      "metadata": {
        "id": "a1JwARfnYGEy"
      },
      "execution_count": null,
      "outputs": []
    },
    {
      "cell_type": "code",
      "source": [
        "from sklearn.metrics import confusion_matrix,accuracy_score\n"
      ],
      "metadata": {
        "id": "74ELVrWrYMor"
      },
      "execution_count": null,
      "outputs": []
    },
    {
      "cell_type": "code",
      "source": [
        "conf_matrix = confusion_matrix(y_test,pred)\n",
        "print(conf_matrix)"
      ],
      "metadata": {
        "colab": {
          "base_uri": "https://localhost:8080/"
        },
        "id": "JkcFxt2cYJAy",
        "outputId": "2481672f-0c3b-40ad-c295-741a291f1918"
      },
      "execution_count": null,
      "outputs": [
        {
          "output_type": "stream",
          "name": "stdout",
          "text": [
            "[[49  0]\n",
            " [ 0 41]]\n"
          ]
        }
      ]
    },
    {
      "cell_type": "code",
      "source": [
        "accuracy_score(y_test,pred)"
      ],
      "metadata": {
        "colab": {
          "base_uri": "https://localhost:8080/"
        },
        "id": "ZCHoN0pmYJDi",
        "outputId": "177c0565-ff81-4134-ff82-53d9df328887"
      },
      "execution_count": null,
      "outputs": [
        {
          "output_type": "execute_result",
          "data": {
            "text/plain": [
              "1.0"
            ]
          },
          "metadata": {},
          "execution_count": 28
        }
      ]
    },
    {
      "cell_type": "code",
      "source": [],
      "metadata": {
        "id": "z8Q-BuqIhWKa"
      },
      "execution_count": null,
      "outputs": []
    }
  ]
}